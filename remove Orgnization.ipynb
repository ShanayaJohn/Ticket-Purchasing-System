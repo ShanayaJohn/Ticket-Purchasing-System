{
 "cells": [
  {
   "cell_type": "code",
   "execution_count": null,
   "id": "a3e7a53d",
   "metadata": {},
   "outputs": [],
   "source": [
    "import csv\n",
    "\n",
    "def removeOrganization():\n",
    "    print(\"Please enter the email of the organization you want to remove:\")\n",
    "    email = input(\"Email: \")\n",
    "\n",
    "    # Open the CSV file and read all rows into a list of lists\n",
    "    with open('organizations.csv', mode='r') as organizations_file:\n",
    "        organizations_reader = csv.reader(organizations_file)\n",
    "        rows = list(organizations_reader)\n",
    "\n",
    "    # Look for the row containing the organization's email and remove it\n",
    "    for row in rows:\n",
    "        if row[0] == email:\n",
    "            rows.remove(row)\n",
    "            break\n",
    "\n",
    "    # Write the updated list of rows back to the CSV file\n",
    "    with open('organizations.csv', mode='w', newline='') as organizations_file:\n",
    "        organizations_writer = csv.writer(organizations_file)\n",
    "        organizations_writer.writerows(rows)\n",
    "\n",
    "    print(\"Organization removed successfully!\")\n"
   ]
  }
 ],
 "metadata": {
  "kernelspec": {
   "display_name": "Python 3",
   "language": "python",
   "name": "python3"
  },
  "language_info": {
   "codemirror_mode": {
    "name": "ipython",
    "version": 3
   },
   "file_extension": ".py",
   "mimetype": "text/x-python",
   "name": "python",
   "nbconvert_exporter": "python",
   "pygments_lexer": "ipython3",
   "version": "3.8.8"
  }
 },
 "nbformat": 4,
 "nbformat_minor": 5
}
