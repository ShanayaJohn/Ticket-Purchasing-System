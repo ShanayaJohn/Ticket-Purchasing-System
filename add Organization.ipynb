{
 "cells": [
  {
   "cell_type": "code",
   "execution_count": null,
   "id": "6fc75041",
   "metadata": {},
   "outputs": [],
   "source": [
    "import csv\n",
    "\n",
    "def addOrganization():\n",
    "    print(\"Please enter the following information to create your account:\")\n",
    "    email = input(\"Email: \")\n",
    "    name = input(\"Organization Name: \")\n",
    "    password = input(\"Password: \")\n",
    "    password2 = input(\"Confirm Password: \")\n",
    "\n",
    "    while password != password2:\n",
    "        print(\"Passwords do not match. Please try again.\")\n",
    "        password = input(\"Password: \")\n",
    "        password2 = input(\"Confirm Password: \")\n",
    "\n",
    "    # Save organization information to CSV file\n",
    "    with open('organizations.csv', mode='a') as organizations_file:\n",
    "        organizations_writer = csv.writer(organizations_file, delimiter=',', quotechar='\"', quoting=csv.QUOTE_MINIMAL)\n",
    "        organizations_writer.writerow([email, name, password])\n",
    "    \n",
    "    print(\"Account created successfully!\")\n"
   ]
  }
 ],
 "metadata": {
  "kernelspec": {
   "display_name": "Python 3",
   "language": "python",
   "name": "python3"
  },
  "language_info": {
   "codemirror_mode": {
    "name": "ipython",
    "version": 3
   },
   "file_extension": ".py",
   "mimetype": "text/x-python",
   "name": "python",
   "nbconvert_exporter": "python",
   "pygments_lexer": "ipython3",
   "version": "3.8.8"
  }
 },
 "nbformat": 4,
 "nbformat_minor": 5
}
